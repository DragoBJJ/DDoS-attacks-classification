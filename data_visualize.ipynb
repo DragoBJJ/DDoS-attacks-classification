{
 "cells": [
  {
   "cell_type": "code",
   "execution_count": 17,
   "id": "b2d01a29-8970-4d7a-b04a-48487ef868e1",
   "metadata": {},
   "outputs": [],
   "source": [
    "import os\n",
    "import pandas as pd\n",
    "\n",
    "import matplotlib.pyplot as plt\n",
    "import numpy as np\n",
    "import pandas as pd\n",
    "import seaborn as sns"
   ]
  },
  {
   "cell_type": "code",
   "execution_count": 3,
   "id": "0e3f82fe-41e8-49e0-a4da-6766c2941885",
   "metadata": {},
   "outputs": [],
   "source": [
    "def visualize_nulls(data_frame):\n",
    "    null_counts = data_frame.isna().sum()\n",
    "    total_rows = len(data_frame)\n",
    "    \n",
    "    null_counts = null_counts[null_counts > 0]\n",
    "    \n",
    "    if null_counts.empty:\n",
    "        print(\"No null value in the dataset.\")\n",
    "        return\n",
    "\n",
    "    num_null_columns = (null_counts > 0).sum()\n",
    "    print(f\"Number of columns with null values: {num_null_columns}\")\n",
    "\n",
    "    \n",
    "    null_percentage = (null_counts / total_rows) * 100\n",
    "    \n",
    "    null_summary = pd.DataFrame({\n",
    "        'Null Count': null_counts,\n",
    "        'Null Percentage': null_percentage\n",
    "    })\n",
    "    \n",
    "    plt.figure(figsize=(12, 6))\n",
    "    null_summary['Null Count'].plot(kind='bar', color='skyblue', alpha=0.7, label='Liczba Nulli')\n",
    "    plt.ylabel('Number of Null')\n",
    "    \n",
    "    ax2 = plt.gca().twinx()\n",
    "    null_summary['Null Percentage'].plot(kind='line', marker='o', color='orange', ax=ax2, label='Procent Nulli')\n",
    "    ax2.set_ylabel('Procent Nulli (%)')\n",
    "    \n",
    "    plt.title('Number and Percentage of Null Values in Features')\n",
    "    plt.xticks(rotation=45)\n",
    "    \n",
    "    plt.legend(loc='upper left')\n",
    "    \n",
    "    plt.show()\n",
    "\n",
    "def visualize_labels(data_frame):\n",
    "    label_counts = data_frame['Label'].value_counts()\n",
    "\n",
    "    sns.set(style=\"whitegrid\")\n",
    "\n",
    "    plt.figure(figsize=(10, 6))\n",
    "    \n",
    "    ax = sns.barplot(x=label_counts.index, y=label_counts.values, palette=\"viridis\", hue=label_counts.index, legend=False)\n",
    "\n",
    "    for p in ax.patches:\n",
    "        ax.annotate(f'{p.get_height()}', (p.get_x() + p.get_width() / 2., p.get_height()), \n",
    "                    ha='center', va='bottom', fontsize=12)\n",
    "\n",
    "    plt.title('Distribution of samples', fontsize=16)\n",
    "    plt.xlabel('Attack type', fontsize=14)\n",
    "    plt.ylabel('Number of Cases', fontsize=14)\n",
    "    \n",
    "    plt.xticks(rotation=45)\n",
    "    \n",
    "    plt.tight_layout()\n",
    "    plt.show()"
   ]
  }
 ],
 "metadata": {
  "kernelspec": {
   "display_name": "Python 3 (ipykernel)",
   "language": "python",
   "name": "python3"
  },
  "language_info": {
   "codemirror_mode": {
    "name": "ipython",
    "version": 3
   },
   "file_extension": ".py",
   "mimetype": "text/x-python",
   "name": "python",
   "nbconvert_exporter": "python",
   "pygments_lexer": "ipython3",
   "version": "3.10.13"
  }
 },
 "nbformat": 4,
 "nbformat_minor": 5
}
