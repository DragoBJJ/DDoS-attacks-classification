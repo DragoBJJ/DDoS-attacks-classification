{
 "cells": [
  {
   "cell_type": "code",
   "execution_count": 5,
   "id": "da945082-db62-42c9-8a37-442ed11e4d99",
   "metadata": {},
   "outputs": [],
   "source": [
    "import os\n",
    "import pandas as pd"
   ]
  },
  {
   "cell_type": "code",
   "execution_count": 1,
   "id": "d50fd25e-8fc7-442f-80d9-3e27b599830b",
   "metadata": {},
   "outputs": [],
   "source": [
    "def load_dataset(file_path, file_name, nrows=10000000):\n",
    "    full_path = os.path.join(file_path, file_name)\n",
    "    data_set = pd.read_csv(full_path, header=0, nrows=nrows, dtype={'Column85': str}, low_memory=False)\n",
    "    \n",
    "    data_set.columns = data_set.columns.str.strip()\n",
    "    \n",
    "    return data_set\n",
    "\n",
    "def get_samples_by_label(data_frame, label):    \n",
    "    filtered_samples = data_frame[data_frame[\"Label\"] == label]\n",
    "    \n",
    "    return filtered_samples\n",
    "\n",
    "def combine_datasets(file_path, file_names, nrows=15000):\n",
    "    \n",
    "    dataframes = []\n",
    "    \n",
    "    for name in file_names:\n",
    "        try:\n",
    "            df = load_dataset(file_path, name, nrows)\n",
    "            dataframes.append(df)\n",
    "        except Exception as e:\n",
    "            print(f\"Error reading {os.path.join(file_path, name)}: {e}\")\n",
    "    \n",
    "    combined_df = pd.concat(dataframes, ignore_index=True)\n",
    "    \n",
    "    return combined_df\n",
    "\n",
    "\n",
    "def calculate_label_distribution(dataframe, label_column):\n",
    "    total_samples = dataframe.shape[0]\n",
    "    label_counts = dataframe[label_column].value_counts()\n",
    "    \n",
    "    distribution = {}\n",
    "    for label, count in label_counts.items():\n",
    "        percentage = (count / total_samples) * 100\n",
    "        distribution[label] = {\n",
    "            'count': count,\n",
    "            'percentage': percentage\n",
    "        }\n",
    "        \n",
    "    return distribution\n",
    "\n",
    "def display_label_distribution(label_distribution):\n",
    "    for label, stats in label_distribution.items():\n",
    "        print(f\"Samples Count: {label}: {stats['count']}\")\n",
    "        print(f\"Percentage distribution of data: {label}: {stats['percentage']:.2f}%\")\n",
    "    \n",
    "\n",
    "def display_unique_labels(data_frame):\n",
    "    unique_labels = data_frame[\"Label\"].unique()\n",
    "    print(\"Unique Labels:\", unique_labels)\n",
    "\n",
    "def display_dataset_length(data_frame):\n",
    "    length = len(data_frame)\n",
    "    print(\"Dataset length:\", length)"
   ]
  }
 ],
 "metadata": {
  "kernelspec": {
   "display_name": "Python 3 (ipykernel)",
   "language": "python",
   "name": "python3"
  },
  "language_info": {
   "codemirror_mode": {
    "name": "ipython",
    "version": 3
   },
   "file_extension": ".py",
   "mimetype": "text/x-python",
   "name": "python",
   "nbconvert_exporter": "python",
   "pygments_lexer": "ipython3",
   "version": "3.10.13"
  }
 },
 "nbformat": 4,
 "nbformat_minor": 5
}
